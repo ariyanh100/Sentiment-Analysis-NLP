{
  "cells": [
    {
      "attachments": {},
      "cell_type": "markdown",
      "metadata": {
        "id": "Sdq3bQuOOZxt"
      },
      "source": [
        "## Importing libraries and Installing packages\n"
      ]
    },
    {
      "cell_type": "code",
      "execution_count": null,
      "metadata": {
        "colab": {
          "base_uri": "https://localhost:8080/"
        },
        "id": "k_D5rh0dMKqG",
        "outputId": "de7a8901-20f8-476c-e2e8-79dbc81f4237"
      },
      "outputs": [
        {
          "name": "stdout",
          "output_type": "stream",
          "text": [
            "Looking in indexes: https://pypi.org/simple, https://us-python.pkg.dev/colab-wheels/public/simple/\n",
            "Requirement already satisfied: tensorflow in /usr/local/lib/python3.10/dist-packages (2.12.0)\n",
            "Requirement already satisfied: termcolor>=1.1.0 in /usr/local/lib/python3.10/dist-packages (from tensorflow) (2.3.0)\n",
            "Requirement already satisfied: tensorboard<2.13,>=2.12 in /usr/local/lib/python3.10/dist-packages (from tensorflow) (2.12.2)\n",
            "Requirement already satisfied: libclang>=13.0.0 in /usr/local/lib/python3.10/dist-packages (from tensorflow) (16.0.0)\n",
            "Requirement already satisfied: gast<=0.4.0,>=0.2.1 in /usr/local/lib/python3.10/dist-packages (from tensorflow) (0.4.0)\n",
            "Requirement already satisfied: jax>=0.3.15 in /usr/local/lib/python3.10/dist-packages (from tensorflow) (0.4.8)\n",
            "Requirement already satisfied: typing-extensions>=3.6.6 in /usr/local/lib/python3.10/dist-packages (from tensorflow) (4.5.0)\n",
            "Requirement already satisfied: keras<2.13,>=2.12.0 in /usr/local/lib/python3.10/dist-packages (from tensorflow) (2.12.0)\n",
            "Requirement already satisfied: packaging in /usr/local/lib/python3.10/dist-packages (from tensorflow) (23.1)\n",
            "Requirement already satisfied: protobuf!=4.21.0,!=4.21.1,!=4.21.2,!=4.21.3,!=4.21.4,!=4.21.5,<5.0.0dev,>=3.20.3 in /usr/local/lib/python3.10/dist-packages (from tensorflow) (3.20.3)\n",
            "Requirement already satisfied: six>=1.12.0 in /usr/local/lib/python3.10/dist-packages (from tensorflow) (1.16.0)\n",
            "Requirement already satisfied: astunparse>=1.6.0 in /usr/local/lib/python3.10/dist-packages (from tensorflow) (1.6.3)\n",
            "Requirement already satisfied: absl-py>=1.0.0 in /usr/local/lib/python3.10/dist-packages (from tensorflow) (1.4.0)\n",
            "Requirement already satisfied: google-pasta>=0.1.1 in /usr/local/lib/python3.10/dist-packages (from tensorflow) (0.2.0)\n",
            "Requirement already satisfied: setuptools in /usr/local/lib/python3.10/dist-packages (from tensorflow) (67.7.2)\n",
            "Requirement already satisfied: tensorflow-estimator<2.13,>=2.12.0 in /usr/local/lib/python3.10/dist-packages (from tensorflow) (2.12.0)\n",
            "Requirement already satisfied: opt-einsum>=2.3.2 in /usr/local/lib/python3.10/dist-packages (from tensorflow) (3.3.0)\n",
            "Requirement already satisfied: numpy<1.24,>=1.22 in /usr/local/lib/python3.10/dist-packages (from tensorflow) (1.22.4)\n",
            "Requirement already satisfied: tensorflow-io-gcs-filesystem>=0.23.1 in /usr/local/lib/python3.10/dist-packages (from tensorflow) (0.32.0)\n",
            "Requirement already satisfied: grpcio<2.0,>=1.24.3 in /usr/local/lib/python3.10/dist-packages (from tensorflow) (1.54.0)\n",
            "Requirement already satisfied: h5py>=2.9.0 in /usr/local/lib/python3.10/dist-packages (from tensorflow) (3.8.0)\n",
            "Requirement already satisfied: flatbuffers>=2.0 in /usr/local/lib/python3.10/dist-packages (from tensorflow) (23.3.3)\n",
            "Requirement already satisfied: wrapt<1.15,>=1.11.0 in /usr/local/lib/python3.10/dist-packages (from tensorflow) (1.14.1)\n",
            "Requirement already satisfied: wheel<1.0,>=0.23.0 in /usr/local/lib/python3.10/dist-packages (from astunparse>=1.6.0->tensorflow) (0.40.0)\n",
            "Requirement already satisfied: ml-dtypes>=0.0.3 in /usr/local/lib/python3.10/dist-packages (from jax>=0.3.15->tensorflow) (0.1.0)\n",
            "Requirement already satisfied: scipy>=1.7 in /usr/local/lib/python3.10/dist-packages (from jax>=0.3.15->tensorflow) (1.10.1)\n",
            "Requirement already satisfied: werkzeug>=1.0.1 in /usr/local/lib/python3.10/dist-packages (from tensorboard<2.13,>=2.12->tensorflow) (2.3.0)\n",
            "Requirement already satisfied: google-auth<3,>=1.6.3 in /usr/local/lib/python3.10/dist-packages (from tensorboard<2.13,>=2.12->tensorflow) (2.17.3)\n",
            "Requirement already satisfied: markdown>=2.6.8 in /usr/local/lib/python3.10/dist-packages (from tensorboard<2.13,>=2.12->tensorflow) (3.4.3)\n",
            "Requirement already satisfied: google-auth-oauthlib<1.1,>=0.5 in /usr/local/lib/python3.10/dist-packages (from tensorboard<2.13,>=2.12->tensorflow) (1.0.0)\n",
            "Requirement already satisfied: tensorboard-data-server<0.8.0,>=0.7.0 in /usr/local/lib/python3.10/dist-packages (from tensorboard<2.13,>=2.12->tensorflow) (0.7.0)\n",
            "Requirement already satisfied: requests<3,>=2.21.0 in /usr/local/lib/python3.10/dist-packages (from tensorboard<2.13,>=2.12->tensorflow) (2.27.1)\n",
            "Requirement already satisfied: tensorboard-plugin-wit>=1.6.0 in /usr/local/lib/python3.10/dist-packages (from tensorboard<2.13,>=2.12->tensorflow) (1.8.1)\n",
            "Requirement already satisfied: pyasn1-modules>=0.2.1 in /usr/local/lib/python3.10/dist-packages (from google-auth<3,>=1.6.3->tensorboard<2.13,>=2.12->tensorflow) (0.3.0)\n",
            "Requirement already satisfied: rsa<5,>=3.1.4 in /usr/local/lib/python3.10/dist-packages (from google-auth<3,>=1.6.3->tensorboard<2.13,>=2.12->tensorflow) (4.9)\n",
            "Requirement already satisfied: cachetools<6.0,>=2.0.0 in /usr/local/lib/python3.10/dist-packages (from google-auth<3,>=1.6.3->tensorboard<2.13,>=2.12->tensorflow) (5.3.0)\n",
            "Requirement already satisfied: requests-oauthlib>=0.7.0 in /usr/local/lib/python3.10/dist-packages (from google-auth-oauthlib<1.1,>=0.5->tensorboard<2.13,>=2.12->tensorflow) (1.3.1)\n",
            "Requirement already satisfied: urllib3<1.27,>=1.21.1 in /usr/local/lib/python3.10/dist-packages (from requests<3,>=2.21.0->tensorboard<2.13,>=2.12->tensorflow) (1.26.15)\n",
            "Requirement already satisfied: certifi>=2017.4.17 in /usr/local/lib/python3.10/dist-packages (from requests<3,>=2.21.0->tensorboard<2.13,>=2.12->tensorflow) (2022.12.7)\n",
            "Requirement already satisfied: charset-normalizer~=2.0.0 in /usr/local/lib/python3.10/dist-packages (from requests<3,>=2.21.0->tensorboard<2.13,>=2.12->tensorflow) (2.0.12)\n",
            "Requirement already satisfied: idna<4,>=2.5 in /usr/local/lib/python3.10/dist-packages (from requests<3,>=2.21.0->tensorboard<2.13,>=2.12->tensorflow) (3.4)\n",
            "Requirement already satisfied: MarkupSafe>=2.1.1 in /usr/local/lib/python3.10/dist-packages (from werkzeug>=1.0.1->tensorboard<2.13,>=2.12->tensorflow) (2.1.2)\n",
            "Requirement already satisfied: pyasn1<0.6.0,>=0.4.6 in /usr/local/lib/python3.10/dist-packages (from pyasn1-modules>=0.2.1->google-auth<3,>=1.6.3->tensorboard<2.13,>=2.12->tensorflow) (0.5.0)\n",
            "Requirement already satisfied: oauthlib>=3.0.0 in /usr/local/lib/python3.10/dist-packages (from requests-oauthlib>=0.7.0->google-auth-oauthlib<1.1,>=0.5->tensorboard<2.13,>=2.12->tensorflow) (3.2.2)\n"
          ]
        }
      ],
      "source": [
        "!pip install tensorflow"
      ]
    },
    {
      "cell_type": "code",
      "execution_count": null,
      "metadata": {
        "colab": {
          "base_uri": "https://localhost:8080/"
        },
        "id": "UdEISArVM9_s",
        "outputId": "7a3844d5-f938-4348-bcdb-8233bd1d23a3"
      },
      "outputs": [
        {
          "name": "stdout",
          "output_type": "stream",
          "text": [
            "Looking in indexes: https://pypi.org/simple, https://us-python.pkg.dev/colab-wheels/public/simple/\n",
            "Requirement already satisfied: keras_preprocessing in /usr/local/lib/python3.10/dist-packages (1.1.2)\n",
            "Requirement already satisfied: six>=1.9.0 in /usr/local/lib/python3.10/dist-packages (from keras_preprocessing) (1.16.0)\n",
            "Requirement already satisfied: numpy>=1.9.1 in /usr/local/lib/python3.10/dist-packages (from keras_preprocessing) (1.22.4)\n"
          ]
        }
      ],
      "source": [
        "!pip install keras_preprocessing"
      ]
    },
    {
      "cell_type": "code",
      "execution_count": null,
      "metadata": {
        "id": "W-vpR9QCOn2i"
      },
      "outputs": [],
      "source": [
        "import pandas as pd\n",
        "import numpy as np\n",
        "import re\n",
        "import nltk\n",
        "from nltk.corpus import stopwords\n",
        "from numpy import array\n",
        "import tensorflow as tf\n",
        "from keras.preprocessing.text import one_hot, Tokenizer\n",
        "from keras.models import Sequential\n",
        "from keras.layers.core import Activation, Dropout, Dense\n",
        "from sklearn.model_selection import train_test_split\n",
        "from keras_preprocessing.sequence import pad_sequences\n",
        "from tensorflow.keras.callbacks import EarlyStopping\n",
        "from matplotlib import pyplot as plt\n",
        "import seaborn as sn"
      ]
    },
    {
      "attachments": {},
      "cell_type": "markdown",
      "metadata": {
        "id": "q6FO9rxjxHe_"
      },
      "source": [
        "## Loading dataset"
      ]
    },
    {
      "cell_type": "code",
      "execution_count": null,
      "metadata": {
        "colab": {
          "base_uri": "https://localhost:8080/",
          "height": 380
        },
        "id": "sNL6yy_DO0n1",
        "outputId": "5e790268-2b75-4947-d620-bce7613cfb82"
      },
      "outputs": [
        {
          "name": "stdout",
          "output_type": "stream",
          "text": [
            "Shape of training data =  (50000, 2)\n"
          ]
        },
        {
          "data": {
            "text/html": [
              "\n",
              "  <div id=\"df-c1090773-85be-4654-b300-d723edc1f663\">\n",
              "    <div class=\"colab-df-container\">\n",
              "      <div>\n",
              "<style scoped>\n",
              "    .dataframe tbody tr th:only-of-type {\n",
              "        vertical-align: middle;\n",
              "    }\n",
              "\n",
              "    .dataframe tbody tr th {\n",
              "        vertical-align: top;\n",
              "    }\n",
              "\n",
              "    .dataframe thead th {\n",
              "        text-align: right;\n",
              "    }\n",
              "</style>\n",
              "<table border=\"1\" class=\"dataframe\">\n",
              "  <thead>\n",
              "    <tr style=\"text-align: right;\">\n",
              "      <th></th>\n",
              "      <th>review</th>\n",
              "      <th>sentiment</th>\n",
              "    </tr>\n",
              "  </thead>\n",
              "  <tbody>\n",
              "    <tr>\n",
              "      <th>4239</th>\n",
              "      <td>\"The Foreigner\" is a tale of foreign intrigue ...</td>\n",
              "      <td>negative</td>\n",
              "    </tr>\n",
              "    <tr>\n",
              "      <th>35326</th>\n",
              "      <td>This is a smart drama about the way of life in...</td>\n",
              "      <td>positive</td>\n",
              "    </tr>\n",
              "    <tr>\n",
              "      <th>10041</th>\n",
              "      <td>I wasn't expecting much from this tale of a ki...</td>\n",
              "      <td>positive</td>\n",
              "    </tr>\n",
              "    <tr>\n",
              "      <th>42426</th>\n",
              "      <td>I love movies, and I'll watch any movie all th...</td>\n",
              "      <td>negative</td>\n",
              "    </tr>\n",
              "    <tr>\n",
              "      <th>37515</th>\n",
              "      <td>This is an interesting series that takes real ...</td>\n",
              "      <td>positive</td>\n",
              "    </tr>\n",
              "    <tr>\n",
              "      <th>42204</th>\n",
              "      <td>Had the original casting idea been kept (hunti...</td>\n",
              "      <td>negative</td>\n",
              "    </tr>\n",
              "    <tr>\n",
              "      <th>17330</th>\n",
              "      <td>I give this a generous four out of ten stars, ...</td>\n",
              "      <td>negative</td>\n",
              "    </tr>\n",
              "    <tr>\n",
              "      <th>5941</th>\n",
              "      <td>We have a character named Evie. Evie just want...</td>\n",
              "      <td>positive</td>\n",
              "    </tr>\n",
              "    <tr>\n",
              "      <th>44057</th>\n",
              "      <td>Why Panic never got a good theatrical release ...</td>\n",
              "      <td>positive</td>\n",
              "    </tr>\n",
              "    <tr>\n",
              "      <th>8519</th>\n",
              "      <td>Once again Mr. Costner has dragged out a movie...</td>\n",
              "      <td>negative</td>\n",
              "    </tr>\n",
              "  </tbody>\n",
              "</table>\n",
              "</div>\n",
              "      <button class=\"colab-df-convert\" onclick=\"convertToInteractive('df-c1090773-85be-4654-b300-d723edc1f663')\"\n",
              "              title=\"Convert this dataframe to an interactive table.\"\n",
              "              style=\"display:none;\">\n",
              "        \n",
              "  <svg xmlns=\"http://www.w3.org/2000/svg\" height=\"24px\"viewBox=\"0 0 24 24\"\n",
              "       width=\"24px\">\n",
              "    <path d=\"M0 0h24v24H0V0z\" fill=\"none\"/>\n",
              "    <path d=\"M18.56 5.44l.94 2.06.94-2.06 2.06-.94-2.06-.94-.94-2.06-.94 2.06-2.06.94zm-11 1L8.5 8.5l.94-2.06 2.06-.94-2.06-.94L8.5 2.5l-.94 2.06-2.06.94zm10 10l.94 2.06.94-2.06 2.06-.94-2.06-.94-.94-2.06-.94 2.06-2.06.94z\"/><path d=\"M17.41 7.96l-1.37-1.37c-.4-.4-.92-.59-1.43-.59-.52 0-1.04.2-1.43.59L10.3 9.45l-7.72 7.72c-.78.78-.78 2.05 0 2.83L4 21.41c.39.39.9.59 1.41.59.51 0 1.02-.2 1.41-.59l7.78-7.78 2.81-2.81c.8-.78.8-2.07 0-2.86zM5.41 20L4 18.59l7.72-7.72 1.47 1.35L5.41 20z\"/>\n",
              "  </svg>\n",
              "      </button>\n",
              "      \n",
              "  <style>\n",
              "    .colab-df-container {\n",
              "      display:flex;\n",
              "      flex-wrap:wrap;\n",
              "      gap: 12px;\n",
              "    }\n",
              "\n",
              "    .colab-df-convert {\n",
              "      background-color: #E8F0FE;\n",
              "      border: none;\n",
              "      border-radius: 50%;\n",
              "      cursor: pointer;\n",
              "      display: none;\n",
              "      fill: #1967D2;\n",
              "      height: 32px;\n",
              "      padding: 0 0 0 0;\n",
              "      width: 32px;\n",
              "    }\n",
              "\n",
              "    .colab-df-convert:hover {\n",
              "      background-color: #E2EBFA;\n",
              "      box-shadow: 0px 1px 2px rgba(60, 64, 67, 0.3), 0px 1px 3px 1px rgba(60, 64, 67, 0.15);\n",
              "      fill: #174EA6;\n",
              "    }\n",
              "\n",
              "    [theme=dark] .colab-df-convert {\n",
              "      background-color: #3B4455;\n",
              "      fill: #D2E3FC;\n",
              "    }\n",
              "\n",
              "    [theme=dark] .colab-df-convert:hover {\n",
              "      background-color: #434B5C;\n",
              "      box-shadow: 0px 1px 3px 1px rgba(0, 0, 0, 0.15);\n",
              "      filter: drop-shadow(0px 1px 2px rgba(0, 0, 0, 0.3));\n",
              "      fill: #FFFFFF;\n",
              "    }\n",
              "  </style>\n",
              "\n",
              "      <script>\n",
              "        const buttonEl =\n",
              "          document.querySelector('#df-c1090773-85be-4654-b300-d723edc1f663 button.colab-df-convert');\n",
              "        buttonEl.style.display =\n",
              "          google.colab.kernel.accessAllowed ? 'block' : 'none';\n",
              "\n",
              "        async function convertToInteractive(key) {\n",
              "          const element = document.querySelector('#df-c1090773-85be-4654-b300-d723edc1f663');\n",
              "          const dataTable =\n",
              "            await google.colab.kernel.invokeFunction('convertToInteractive',\n",
              "                                                     [key], {});\n",
              "          if (!dataTable) return;\n",
              "\n",
              "          const docLinkHtml = 'Like what you see? Visit the ' +\n",
              "            '<a target=\"_blank\" href=https://colab.research.google.com/notebooks/data_table.ipynb>data table notebook</a>'\n",
              "            + ' to learn more about interactive tables.';\n",
              "          element.innerHTML = '';\n",
              "          dataTable['output_type'] = 'display_data';\n",
              "          await google.colab.output.renderOutput(dataTable, element);\n",
              "          const docLink = document.createElement('div');\n",
              "          docLink.innerHTML = docLinkHtml;\n",
              "          element.appendChild(docLink);\n",
              "        }\n",
              "      </script>\n",
              "    </div>\n",
              "  </div>\n",
              "  "
            ],
            "text/plain": [
              "                                                  review sentiment\n",
              "4239   \"The Foreigner\" is a tale of foreign intrigue ...  negative\n",
              "35326  This is a smart drama about the way of life in...  positive\n",
              "10041  I wasn't expecting much from this tale of a ki...  positive\n",
              "42426  I love movies, and I'll watch any movie all th...  negative\n",
              "37515  This is an interesting series that takes real ...  positive\n",
              "42204  Had the original casting idea been kept (hunti...  negative\n",
              "17330  I give this a generous four out of ten stars, ...  negative\n",
              "5941   We have a character named Evie. Evie just want...  positive\n",
              "44057  Why Panic never got a good theatrical release ...  positive\n",
              "8519   Once again Mr. Costner has dragged out a movie...  negative"
            ]
          },
          "execution_count": 105,
          "metadata": {},
          "output_type": "execute_result"
        }
      ],
      "source": [
        "imdb_dataset = pd.read_csv(\"IMDB Dataset.csv\")\n",
        "print(\"Shape of training data = \", imdb_dataset.shape)\n",
        "imdb_dataset.sample(10)"
      ]
    },
    {
      "cell_type": "code",
      "execution_count": null,
      "metadata": {
        "colab": {
          "base_uri": "https://localhost:8080/"
        },
        "id": "CRIDYlo4O8Va",
        "outputId": "fb5b4a1f-79a2-4461-bab7-b5283bee922c"
      },
      "outputs": [
        {
          "data": {
            "text/plain": [
              "False"
            ]
          },
          "execution_count": 106,
          "metadata": {},
          "output_type": "execute_result"
        }
      ],
      "source": [
        "# Checking for missing values\n",
        "\n",
        "imdb_dataset.isnull().values.any()"
      ]
    },
    {
      "cell_type": "code",
      "execution_count": null,
      "metadata": {
        "colab": {
          "base_uri": "https://localhost:8080/",
          "height": 466
        },
        "id": "ys4A3cAFPSYI",
        "outputId": "142b975b-862e-48f3-ad12-70a1867aa1e3"
      },
      "outputs": [
        {
          "data": {
            "text/plain": [
              "<Axes: xlabel='sentiment', ylabel='count'>"
            ]
          },
          "execution_count": 107,
          "metadata": {},
          "output_type": "execute_result"
        },
        {
          "data": {
            "image/png": "[encoded data removed]",
            "text/plain": [
              "<Figure size 640x480 with 1 Axes>"
            ]
          },
          "metadata": {},
          "output_type": "display_data"
        }
      ],
      "source": [
        "# Observing class balance\n",
        "\n",
        "import seaborn as sns\n",
        "sns.countplot(x='sentiment', data=imdb_dataset)"
      ]
    },
    {
      "attachments": {},
      "cell_type": "markdown",
      "metadata": {
        "id": "IAVIsg26PVZC"
      },
      "source": [
        "## Data Preprocessing"
      ]
    },
    {
      "cell_type": "code",
      "execution_count": null,
      "metadata": {
        "colab": {
          "base_uri": "https://localhost:8080/",
          "height": 363
        },
        "id": "QBuD9E20PZDb",
        "outputId": "e3e0aaa1-2e5a-42a2-d37d-424376872cb2"
      },
      "outputs": [
        {
          "data": {
            "text/html": [
              "\n",
              "  <div id=\"df-9352ae13-2e42-4353-aafc-4e0215b0ba8a\">\n",
              "    <div class=\"colab-df-container\">\n",
              "      <div>\n",
              "<style scoped>\n",
              "    .dataframe tbody tr th:only-of-type {\n",
              "        vertical-align: middle;\n",
              "    }\n",
              "\n",
              "    .dataframe tbody tr th {\n",
              "        vertical-align: top;\n",
              "    }\n",
              "\n",
              "    .dataframe thead th {\n",
              "        text-align: right;\n",
              "    }\n",
              "</style>\n",
              "<table border=\"1\" class=\"dataframe\">\n",
              "  <thead>\n",
              "    <tr style=\"text-align: right;\">\n",
              "      <th></th>\n",
              "      <th>review</th>\n",
              "      <th>sentiment</th>\n",
              "      <th>cleaned_review</th>\n",
              "    </tr>\n",
              "  </thead>\n",
              "  <tbody>\n",
              "    <tr>\n",
              "      <th>3749</th>\n",
              "      <td>Rating: 4 out of 10&lt;br /&gt;&lt;br /&gt;As this mini-se...</td>\n",
              "      <td>negative</td>\n",
              "      <td>rating out of as this mini series approached a...</td>\n",
              "    </tr>\n",
              "    <tr>\n",
              "      <th>1470</th>\n",
              "      <td>36. THE HOSPITAL (comedy, 1971) A series of em...</td>\n",
              "      <td>positive</td>\n",
              "      <td>the hospital comedy series of emergencies has...</td>\n",
              "    </tr>\n",
              "    <tr>\n",
              "      <th>13825</th>\n",
              "      <td>Bathebo, you big dope.&lt;br /&gt;&lt;br /&gt;This is the ...</td>\n",
              "      <td>negative</td>\n",
              "      <td>bathebo you big dope this is the worst piece o...</td>\n",
              "    </tr>\n",
              "    <tr>\n",
              "      <th>43785</th>\n",
              "      <td>No surprise except in how quickly ABC reacted ...</td>\n",
              "      <td>negative</td>\n",
              "      <td>no surprise except in how quickly abc reacted ...</td>\n",
              "    </tr>\n",
              "    <tr>\n",
              "      <th>41658</th>\n",
              "      <td>This is a unique and bold film. It's energetic...</td>\n",
              "      <td>positive</td>\n",
              "      <td>this is unique and bold film it energetic with...</td>\n",
              "    </tr>\n",
              "    <tr>\n",
              "      <th>34803</th>\n",
              "      <td>Wow, I forgot how great this movie was until I...</td>\n",
              "      <td>positive</td>\n",
              "      <td>wow forgot how great this movie was until stum...</td>\n",
              "    </tr>\n",
              "    <tr>\n",
              "      <th>43916</th>\n",
              "      <td>The people who are praising this film are the ...</td>\n",
              "      <td>negative</td>\n",
              "      <td>the people who are praising this film are the ...</td>\n",
              "    </tr>\n",
              "    <tr>\n",
              "      <th>37858</th>\n",
              "      <td>Not often it happens that a great director´s l...</td>\n",
              "      <td>positive</td>\n",
              "      <td>not often it happens that great director last ...</td>\n",
              "    </tr>\n",
              "    <tr>\n",
              "      <th>46053</th>\n",
              "      <td>I agree that this film was spectacular. The wa...</td>\n",
              "      <td>positive</td>\n",
              "      <td>i agree that this film was spectacular the way...</td>\n",
              "    </tr>\n",
              "    <tr>\n",
              "      <th>16478</th>\n",
              "      <td>Writer/Director Bart Sibrel bases his work her...</td>\n",
              "      <td>negative</td>\n",
              "      <td>writer director bart sibrel bases his work her...</td>\n",
              "    </tr>\n",
              "  </tbody>\n",
              "</table>\n",
              "</div>\n",
              "      <button class=\"colab-df-convert\" onclick=\"convertToInteractive('df-9352ae13-2e42-4353-aafc-4e0215b0ba8a')\"\n",
              "              title=\"Convert this dataframe to an interactive table.\"\n",
              "              style=\"display:none;\">\n",
              "        \n",
              "  <svg xmlns=\"http://www.w3.org/2000/svg\" height=\"24px\"viewBox=\"0 0 24 24\"\n",
              "       width=\"24px\">\n",
              "    <path d=\"M0 0h24v24H0V0z\" fill=\"none\"/>\n",
              "    <path d=\"M18.56 5.44l.94 2.06.94-2.06 2.06-.94-2.06-.94-.94-2.06-.94 2.06-2.06.94zm-11 1L8.5 8.5l.94-2.06 2.06-.94-2.06-.94L8.5 2.5l-.94 2.06-2.06.94zm10 10l.94 2.06.94-2.06 2.06-.94-2.06-.94-.94-2.06-.94 2.06-2.06.94z\"/><path d=\"M17.41 7.96l-1.37-1.37c-.4-.4-.92-.59-1.43-.59-.52 0-1.04.2-1.43.59L10.3 9.45l-7.72 7.72c-.78.78-.78 2.05 0 2.83L4 21.41c.39.39.9.59 1.41.59.51 0 1.02-.2 1.41-.59l7.78-7.78 2.81-2.81c.8-.78.8-2.07 0-2.86zM5.41 20L4 18.59l7.72-7.72 1.47 1.35L5.41 20z\"/>\n",
              "  </svg>\n",
              "      </button>\n",
              "      \n",
              "  <style>\n",
              "    .colab-df-container {\n",
              "      display:flex;\n",
              "      flex-wrap:wrap;\n",
              "      gap: 12px;\n",
              "    }\n",
              "\n",
              "    .colab-df-convert {\n",
              "      background-color: #E8F0FE;\n",
              "      border: none;\n",
              "      border-radius: 50%;\n",
              "      cursor: pointer;\n",
              "      display: none;\n",
              "      fill: #1967D2;\n",
              "      height: 32px;\n",
              "      padding: 0 0 0 0;\n",
              "      width: 32px;\n",
              "    }\n",
              "\n",
              "    .colab-df-convert:hover {\n",
              "      background-color: #E2EBFA;\n",
              "      box-shadow: 0px 1px 2px rgba(60, 64, 67, 0.3), 0px 1px 3px 1px rgba(60, 64, 67, 0.15);\n",
              "      fill: #174EA6;\n",
              "    }\n",
              "\n",
              "    [theme=dark] .colab-df-convert {\n",
              "      background-color: #3B4455;\n",
              "      fill: #D2E3FC;\n",
              "    }\n",
              "\n",
              "    [theme=dark] .colab-df-convert:hover {\n",
              "      background-color: #434B5C;\n",
              "      box-shadow: 0px 1px 3px 1px rgba(0, 0, 0, 0.15);\n",
              "      filter: drop-shadow(0px 1px 2px rgba(0, 0, 0, 0.3));\n",
              "      fill: #FFFFFF;\n",
              "    }\n",
              "  </style>\n",
              "\n",
              "      <script>\n",
              "        const buttonEl =\n",
              "          document.querySelector('#df-9352ae13-2e42-4353-aafc-4e0215b0ba8a button.colab-df-convert');\n",
              "        buttonEl.style.display =\n",
              "          google.colab.kernel.accessAllowed ? 'block' : 'none';\n",
              "\n",
              "        async function convertToInteractive(key) {\n",
              "          const element = document.querySelector('#df-9352ae13-2e42-4353-aafc-4e0215b0ba8a');\n",
              "          const dataTable =\n",
              "            await google.colab.kernel.invokeFunction('convertToInteractive',\n",
              "                                                     [key], {});\n",
              "          if (!dataTable) return;\n",
              "\n",
              "          const docLinkHtml = 'Like what you see? Visit the ' +\n",
              "            '<a target=\"_blank\" href=https://colab.research.google.com/notebooks/data_table.ipynb>data table notebook</a>'\n",
              "            + ' to learn more about interactive tables.';\n",
              "          element.innerHTML = '';\n",
              "          dataTable['output_type'] = 'display_data';\n",
              "          await google.colab.output.renderOutput(dataTable, element);\n",
              "          const docLink = document.createElement('div');\n",
              "          docLink.innerHTML = docLinkHtml;\n",
              "          element.appendChild(docLink);\n",
              "        }\n",
              "      </script>\n",
              "    </div>\n",
              "  </div>\n",
              "  "
            ],
            "text/plain": [
              "                                                  review sentiment  \\\n",
              "3749   Rating: 4 out of 10<br /><br />As this mini-se...  negative   \n",
              "1470   36. THE HOSPITAL (comedy, 1971) A series of em...  positive   \n",
              "13825  Bathebo, you big dope.<br /><br />This is the ...  negative   \n",
              "43785  No surprise except in how quickly ABC reacted ...  negative   \n",
              "41658  This is a unique and bold film. It's energetic...  positive   \n",
              "34803  Wow, I forgot how great this movie was until I...  positive   \n",
              "43916  The people who are praising this film are the ...  negative   \n",
              "37858  Not often it happens that a great director´s l...  positive   \n",
              "46053  I agree that this film was spectacular. The wa...  positive   \n",
              "16478  Writer/Director Bart Sibrel bases his work her...  negative   \n",
              "\n",
              "                                          cleaned_review  \n",
              "3749   rating out of as this mini series approached a...  \n",
              "1470    the hospital comedy series of emergencies has...  \n",
              "13825  bathebo you big dope this is the worst piece o...  \n",
              "43785  no surprise except in how quickly abc reacted ...  \n",
              "41658  this is unique and bold film it energetic with...  \n",
              "34803  wow forgot how great this movie was until stum...  \n",
              "43916  the people who are praising this film are the ...  \n",
              "37858  not often it happens that great director last ...  \n",
              "46053  i agree that this film was spectacular the way...  \n",
              "16478  writer director bart sibrel bases his work her...  "
            ]
          },
          "execution_count": 108,
          "metadata": {},
          "output_type": "execute_result"
        }
      ],
      "source": [
        "# Cleaning the data and remmoving unnecessary stuff\n",
        "\n",
        "def preprocess_text(sen):\n",
        "\n",
        "    # Lowercasing sentence\n",
        "    sentence = sen.lower()\n",
        "\n",
        "    # Removing html tags\n",
        "    TAG_RE = re.compile(r'<[^>]+>')\n",
        "    sentence = TAG_RE.sub('', sentence)\n",
        "\n",
        "    # Removing punctuations and numbers\n",
        "    sentence = re.sub('[^a-zA-Z]', ' ', sentence)\n",
        "\n",
        "    # Removing single character \n",
        "    sentence = re.sub(r\"\\s+[a-zA-Z]\\s+\", ' ', sentence) \n",
        "\n",
        "    # Removing multiple spaces\n",
        "    sentence = re.sub(r'\\s+', ' ', sentence)  \n",
        "\n",
        "    # Removing Stopwords\n",
        "    # pattern = re.compile(r'\\b(' + r'|'.join(stopwords.words('english')) + r')\\b\\s*')\n",
        "    # sentence = pattern.sub('', sentence)\n",
        "\n",
        "    return sentence\n",
        "\n",
        "imdb_dataset['cleaned_review'] = imdb_dataset['review'].apply(preprocess_text)  \n",
        "imdb_dataset.sample(10)"
      ]
    },
    {
      "cell_type": "code",
      "execution_count": null,
      "metadata": {
        "colab": {
          "base_uri": "https://localhost:8080/",
          "height": 363
        },
        "id": "-EKC4DJTQKsB",
        "outputId": "3f48d037-9b6a-48a9-e92e-70b94644e03c"
      },
      "outputs": [
        {
          "data": {
            "text/html": [
              "\n",
              "  <div id=\"df-1ba618d2-7d6c-4265-81e3-09818d60d57a\">\n",
              "    <div class=\"colab-df-container\">\n",
              "      <div>\n",
              "<style scoped>\n",
              "    .dataframe tbody tr th:only-of-type {\n",
              "        vertical-align: middle;\n",
              "    }\n",
              "\n",
              "    .dataframe tbody tr th {\n",
              "        vertical-align: top;\n",
              "    }\n",
              "\n",
              "    .dataframe thead th {\n",
              "        text-align: right;\n",
              "    }\n",
              "</style>\n",
              "<table border=\"1\" class=\"dataframe\">\n",
              "  <thead>\n",
              "    <tr style=\"text-align: right;\">\n",
              "      <th></th>\n",
              "      <th>review</th>\n",
              "      <th>sentiment</th>\n",
              "      <th>cleaned_review</th>\n",
              "      <th>binary_sentiment</th>\n",
              "    </tr>\n",
              "  </thead>\n",
              "  <tbody>\n",
              "    <tr>\n",
              "      <th>3939</th>\n",
              "      <td>Warning: Spoilers Galore!&lt;br /&gt;&lt;br /&gt;Tim Burto...</td>\n",
              "      <td>negative</td>\n",
              "      <td>warning spoilers galore tim burton remaking th...</td>\n",
              "      <td>0</td>\n",
              "    </tr>\n",
              "    <tr>\n",
              "      <th>729</th>\n",
              "      <td>Some may go for a film like this but I most as...</td>\n",
              "      <td>negative</td>\n",
              "      <td>some may go for film like this but most assure...</td>\n",
              "      <td>0</td>\n",
              "    </tr>\n",
              "    <tr>\n",
              "      <th>30126</th>\n",
              "      <td>Going into seeing this movie I was a bit skept...</td>\n",
              "      <td>positive</td>\n",
              "      <td>going into seeing this movie was bit skeptical...</td>\n",
              "      <td>1</td>\n",
              "    </tr>\n",
              "    <tr>\n",
              "      <th>24348</th>\n",
              "      <td>In the 60's, having as the background the rehe...</td>\n",
              "      <td>negative</td>\n",
              "      <td>in the having as the background the rehearsal ...</td>\n",
              "      <td>0</td>\n",
              "    </tr>\n",
              "    <tr>\n",
              "      <th>13820</th>\n",
              "      <td>This movie wasn't too funny. It wasn't too hor...</td>\n",
              "      <td>negative</td>\n",
              "      <td>this movie wasn too funny it wasn too horrible...</td>\n",
              "      <td>0</td>\n",
              "    </tr>\n",
              "    <tr>\n",
              "      <th>44051</th>\n",
              "      <td>Now the television schedules (in England, at l...</td>\n",
              "      <td>negative</td>\n",
              "      <td>now the television schedules in england at lea...</td>\n",
              "      <td>0</td>\n",
              "    </tr>\n",
              "    <tr>\n",
              "      <th>23299</th>\n",
              "      <td>The words \"Swedish\" and \"Action movie\" do not ...</td>\n",
              "      <td>negative</td>\n",
              "      <td>the words swedish and action movie do not mix ...</td>\n",
              "      <td>0</td>\n",
              "    </tr>\n",
              "    <tr>\n",
              "      <th>6794</th>\n",
              "      <td>I probably have to blame myselfbut I sure as ...</td>\n",
              "      <td>negative</td>\n",
              "      <td>i probably have to blame myself but sure as he...</td>\n",
              "      <td>0</td>\n",
              "    </tr>\n",
              "    <tr>\n",
              "      <th>47770</th>\n",
              "      <td>This is one of the worst movies I've seen in a...</td>\n",
              "      <td>negative</td>\n",
              "      <td>this is one of the worst movies ve seen in whi...</td>\n",
              "      <td>0</td>\n",
              "    </tr>\n",
              "    <tr>\n",
              "      <th>44636</th>\n",
              "      <td>I just watched Holly along with another movie ...</td>\n",
              "      <td>positive</td>\n",
              "      <td>i just watched holly along with another movie ...</td>\n",
              "      <td>1</td>\n",
              "    </tr>\n",
              "  </tbody>\n",
              "</table>\n",
              "</div>\n",
              "      <button class=\"colab-df-convert\" onclick=\"convertToInteractive('df-1ba618d2-7d6c-4265-81e3-09818d60d57a')\"\n",
              "              title=\"Convert this dataframe to an interactive table.\"\n",
              "              style=\"display:none;\">\n",
              "        \n",
              "  <svg xmlns=\"http://www.w3.org/2000/svg\" height=\"24px\"viewBox=\"0 0 24 24\"\n",
              "       width=\"24px\">\n",
              "    <path d=\"M0 0h24v24H0V0z\" fill=\"none\"/>\n",
              "    <path d=\"M18.56 5.44l.94 2.06.94-2.06 2.06-.94-2.06-.94-.94-2.06-.94 2.06-2.06.94zm-11 1L8.5 8.5l.94-2.06 2.06-.94-2.06-.94L8.5 2.5l-.94 2.06-2.06.94zm10 10l.94 2.06.94-2.06 2.06-.94-2.06-.94-.94-2.06-.94 2.06-2.06.94z\"/><path d=\"M17.41 7.96l-1.37-1.37c-.4-.4-.92-.59-1.43-.59-.52 0-1.04.2-1.43.59L10.3 9.45l-7.72 7.72c-.78.78-.78 2.05 0 2.83L4 21.41c.39.39.9.59 1.41.59.51 0 1.02-.2 1.41-.59l7.78-7.78 2.81-2.81c.8-.78.8-2.07 0-2.86zM5.41 20L4 18.59l7.72-7.72 1.47 1.35L5.41 20z\"/>\n",
              "  </svg>\n",
              "      </button>\n",
              "      \n",
              "  <style>\n",
              "    .colab-df-container {\n",
              "      display:flex;\n",
              "      flex-wrap:wrap;\n",
              "      gap: 12px;\n",
              "    }\n",
              "\n",
              "    .colab-df-convert {\n",
              "      background-color: #E8F0FE;\n",
              "      border: none;\n",
              "      border-radius: 50%;\n",
              "      cursor: pointer;\n",
              "      display: none;\n",
              "      fill: #1967D2;\n",
              "      height: 32px;\n",
              "      padding: 0 0 0 0;\n",
              "      width: 32px;\n",
              "    }\n",
              "\n",
              "    .colab-df-convert:hover {\n",
              "      background-color: #E2EBFA;\n",
              "      box-shadow: 0px 1px 2px rgba(60, 64, 67, 0.3), 0px 1px 3px 1px rgba(60, 64, 67, 0.15);\n",
              "      fill: #174EA6;\n",
              "    }\n",
              "\n",
              "    [theme=dark] .colab-df-convert {\n",
              "      background-color: #3B4455;\n",
              "      fill: #D2E3FC;\n",
              "    }\n",
              "\n",
              "    [theme=dark] .colab-df-convert:hover {\n",
              "      background-color: #434B5C;\n",
              "      box-shadow: 0px 1px 3px 1px rgba(0, 0, 0, 0.15);\n",
              "      filter: drop-shadow(0px 1px 2px rgba(0, 0, 0, 0.3));\n",
              "      fill: #FFFFFF;\n",
              "    }\n",
              "  </style>\n",
              "\n",
              "      <script>\n",
              "        const buttonEl =\n",
              "          document.querySelector('#df-1ba618d2-7d6c-4265-81e3-09818d60d57a button.colab-df-convert');\n",
              "        buttonEl.style.display =\n",
              "          google.colab.kernel.accessAllowed ? 'block' : 'none';\n",
              "\n",
              "        async function convertToInteractive(key) {\n",
              "          const element = document.querySelector('#df-1ba618d2-7d6c-4265-81e3-09818d60d57a');\n",
              "          const dataTable =\n",
              "            await google.colab.kernel.invokeFunction('convertToInteractive',\n",
              "                                                     [key], {});\n",
              "          if (!dataTable) return;\n",
              "\n",
              "          const docLinkHtml = 'Like what you see? Visit the ' +\n",
              "            '<a target=\"_blank\" href=https://colab.research.google.com/notebooks/data_table.ipynb>data table notebook</a>'\n",
              "            + ' to learn more about interactive tables.';\n",
              "          element.innerHTML = '';\n",
              "          dataTable['output_type'] = 'display_data';\n",
              "          await google.colab.output.renderOutput(dataTable, element);\n",
              "          const docLink = document.createElement('div');\n",
              "          docLink.innerHTML = docLinkHtml;\n",
              "          element.appendChild(docLink);\n",
              "        }\n",
              "      </script>\n",
              "    </div>\n",
              "  </div>\n",
              "  "
            ],
            "text/plain": [
              "                                                  review sentiment  \\\n",
              "3939   Warning: Spoilers Galore!<br /><br />Tim Burto...  negative   \n",
              "729    Some may go for a film like this but I most as...  negative   \n",
              "30126  Going into seeing this movie I was a bit skept...  positive   \n",
              "24348  In the 60's, having as the background the rehe...  negative   \n",
              "13820  This movie wasn't too funny. It wasn't too hor...  negative   \n",
              "44051  Now the television schedules (in England, at l...  negative   \n",
              "23299  The words \"Swedish\" and \"Action movie\" do not ...  negative   \n",
              "6794   I probably have to blame myself\n",
              "but I sure as ...  negative   \n",
              "47770  This is one of the worst movies I've seen in a...  negative   \n",
              "44636  I just watched Holly along with another movie ...  positive   \n",
              "\n",
              "                                          cleaned_review  binary_sentiment  \n",
              "3939   warning spoilers galore tim burton remaking th...                 0  \n",
              "729    some may go for film like this but most assure...                 0  \n",
              "30126  going into seeing this movie was bit skeptical...                 1  \n",
              "24348  in the having as the background the rehearsal ...                 0  \n",
              "13820  this movie wasn too funny it wasn too horrible...                 0  \n",
              "44051  now the television schedules in england at lea...                 0  \n",
              "23299  the words swedish and action movie do not mix ...                 0  \n",
              "6794   i probably have to blame myself but sure as he...                 0  \n",
              "47770  this is one of the worst movies ve seen in whi...                 0  \n",
              "44636  i just watched holly along with another movie ...                 1  "
            ]
          },
          "execution_count": 109,
          "metadata": {},
          "output_type": "execute_result"
        }
      ],
      "source": [
        "# Label Binarization -> postive=1, negative=0\n",
        "\n",
        "imdb_dataset['binary_sentiment']=imdb_dataset['sentiment'].apply(lambda x: 1 if x=='positive' else 0)\n",
        "imdb_dataset.sample(10)"
      ]
    },
    {
      "cell_type": "code",
      "execution_count": null,
      "metadata": {
        "id": "fQTsUbjfshSz"
      },
      "outputs": [],
      "source": [
        "X=imdb_dataset['cleaned_review'].values\n",
        "Y=imdb_dataset['binary_sentiment'].values"
      ]
    },
    {
      "cell_type": "code",
      "execution_count": null,
      "metadata": {
        "id": "LJZ7NxEQX5gC"
      },
      "outputs": [],
      "source": [
        "# Splitting our dataset into train(80%) and test(20%)\n",
        "\n",
        "X_train, X_test, Y_train, Y_test = train_test_split(X, Y, test_size=0.2, random_state=42)"
      ]
    },
    {
      "cell_type": "code",
      "execution_count": null,
      "metadata": {
        "colab": {
          "base_uri": "https://localhost:8080/"
        },
        "id": "Keny3uLowujW",
        "outputId": "532bae5e-3652-4f5a-ec6c-78646801c0db"
      },
      "outputs": [
        {
          "name": "stdout",
          "output_type": "stream",
          "text": [
            "(40000,)\n",
            "(10000,)\n"
          ]
        }
      ],
      "source": [
        "print(Y_train.shape)\n",
        "print(Y_test.shape)"
      ]
    },
    {
      "cell_type": "code",
      "execution_count": null,
      "metadata": {
        "id": "zf7OvbiSGBrq"
      },
      "outputs": [],
      "source": [
        "# Using TF-IDF to convert text to features\n",
        "\n",
        "from sklearn.feature_extraction.text import TfidfVectorizer\n",
        "\n",
        "tf_idf = TfidfVectorizer()\n",
        "X_train_tfidf = tf_idf.fit_transform(X_train)  #fitting on X_train and then transforming X_train\n",
        "X_test_tfidf = tf_idf.transform(X_test)  #transforming X_test"
      ]
    },
    {
      "attachments": {},
      "cell_type": "markdown",
      "metadata": {
        "id": "Q3LbhMW4v2R2"
      },
      "source": [
        "## Training with Naive Bayes "
      ]
    },
    {
      "cell_type": "code",
      "execution_count": null,
      "metadata": {
        "colab": {
          "base_uri": "https://localhost:8080/",
          "height": 75
        },
        "id": "g5X-UN0nsHSG",
        "outputId": "2422b76c-62e6-48e0-cb28-dc993f9f0db0"
      },
      "outputs": [
        {
          "data": {
            "text/html": [
              "<style>#sk-container-id-6 {color: black;background-color: white;}#sk-container-id-6 pre{padding: 0;}#sk-container-id-6 div.sk-toggleable {background-color: white;}#sk-container-id-6 label.sk-toggleable__label {cursor: pointer;display: block;width: 100%;margin-bottom: 0;padding: 0.3em;box-sizing: border-box;text-align: center;}#sk-container-id-6 label.sk-toggleable__label-arrow:before {content: \"▸\";float: left;margin-right: 0.25em;color: #696969;}#sk-container-id-6 label.sk-toggleable__label-arrow:hover:before {color: black;}#sk-container-id-6 div.sk-estimator:hover label.sk-toggleable__label-arrow:before {color: black;}#sk-container-id-6 div.sk-toggleable__content {max-height: 0;max-width: 0;overflow: hidden;text-align: left;background-color: #f0f8ff;}#sk-container-id-6 div.sk-toggleable__content pre {margin: 0.2em;color: black;border-radius: 0.25em;background-color: #f0f8ff;}#sk-container-id-6 input.sk-toggleable__control:checked~div.sk-toggleable__content {max-height: 200px;max-width: 100%;overflow: auto;}#sk-container-id-6 input.sk-toggleable__control:checked~label.sk-toggleable__label-arrow:before {content: \"▾\";}#sk-container-id-6 div.sk-estimator input.sk-toggleable__control:checked~label.sk-toggleable__label {background-color: #d4ebff;}#sk-container-id-6 div.sk-label input.sk-toggleable__control:checked~label.sk-toggleable__label {background-color: #d4ebff;}#sk-container-id-6 input.sk-hidden--visually {border: 0;clip: rect(1px 1px 1px 1px);clip: rect(1px, 1px, 1px, 1px);height: 1px;margin: -1px;overflow: hidden;padding: 0;position: absolute;width: 1px;}#sk-container-id-6 div.sk-estimator {font-family: monospace;background-color: #f0f8ff;border: 1px dotted black;border-radius: 0.25em;box-sizing: border-box;margin-bottom: 0.5em;}#sk-container-id-6 div.sk-estimator:hover {background-color: #d4ebff;}#sk-container-id-6 div.sk-parallel-item::after {content: \"\";width: 100%;border-bottom: 1px solid gray;flex-grow: 1;}#sk-container-id-6 div.sk-label:hover label.sk-toggleable__label {background-color: #d4ebff;}#sk-container-id-6 div.sk-serial::before {content: \"\";position: absolute;border-left: 1px solid gray;box-sizing: border-box;top: 0;bottom: 0;left: 50%;z-index: 0;}#sk-container-id-6 div.sk-serial {display: flex;flex-direction: column;align-items: center;background-color: white;padding-right: 0.2em;padding-left: 0.2em;position: relative;}#sk-container-id-6 div.sk-item {position: relative;z-index: 1;}#sk-container-id-6 div.sk-parallel {display: flex;align-items: stretch;justify-content: center;background-color: white;position: relative;}#sk-container-id-6 div.sk-item::before, #sk-container-id-6 div.sk-parallel-item::before {content: \"\";position: absolute;border-left: 1px solid gray;box-sizing: border-box;top: 0;bottom: 0;left: 50%;z-index: -1;}#sk-container-id-6 div.sk-parallel-item {display: flex;flex-direction: column;z-index: 1;position: relative;background-color: white;}#sk-container-id-6 div.sk-parallel-item:first-child::after {align-self: flex-end;width: 50%;}#sk-container-id-6 div.sk-parallel-item:last-child::after {align-self: flex-start;width: 50%;}#sk-container-id-6 div.sk-parallel-item:only-child::after {width: 0;}#sk-container-id-6 div.sk-dashed-wrapped {border: 1px dashed gray;margin: 0 0.4em 0.5em 0.4em;box-sizing: border-box;padding-bottom: 0.4em;background-color: white;}#sk-container-id-6 div.sk-label label {font-family: monospace;font-weight: bold;display: inline-block;line-height: 1.2em;}#sk-container-id-6 div.sk-label-container {text-align: center;}#sk-container-id-6 div.sk-container {/* jupyter's `normalize.less` sets `[hidden] { display: none; }` but bootstrap.min.css set `[hidden] { display: none !important; }` so we also need the `!important` here to be able to override the default hidden behavior on the sphinx rendered scikit-learn.org. See: https://github.com/scikit-learn/scikit-learn/issues/21755 */display: inline-block !important;position: relative;}#sk-container-id-6 div.sk-text-repr-fallback {display: none;}</style><div id=\"sk-container-id-6\" class=\"sk-top-container\"><div class=\"sk-text-repr-fallback\"><pre>MultinomialNB()</pre><b>In a Jupyter environment, please rerun this cell to show the HTML representation or trust the notebook. <br />On GitHub, the HTML representation is unable to render, please try loading this page with nbviewer.org.</b></div><div class=\"sk-container\" hidden><div class=\"sk-item\"><div class=\"sk-estimator sk-toggleable\"><input class=\"sk-toggleable__control sk-hidden--visually\" id=\"sk-estimator-id-6\" type=\"checkbox\" checked><label for=\"sk-estimator-id-6\" class=\"sk-toggleable__label sk-toggleable__label-arrow\">MultinomialNB</label><div class=\"sk-toggleable__content\"><pre>MultinomialNB()</pre></div></div></div></div></div>"
            ],
            "text/plain": [
              "MultinomialNB()"
            ]
          },
          "execution_count": 116,
          "metadata": {},
          "output_type": "execute_result"
        }
      ],
      "source": [
        "# Model Training\n",
        "\n",
        "from sklearn import naive_bayes\n",
        "nb = naive_bayes.MultinomialNB()\n",
        "nb.fit(X_train_tfidf, Y_train)"
      ]
    },
    {
      "cell_type": "code",
      "execution_count": null,
      "metadata": {
        "colab": {
          "base_uri": "https://localhost:8080/"
        },
        "id": "u7cKBPguuh7l",
        "outputId": "9384d666-8e0f-486b-a2c2-4ef8a05027c1"
      },
      "outputs": [
        {
          "name": "stdout",
          "output_type": "stream",
          "text": [
            "F1 Score using Naive Bayes: 0.8614445574771108\n"
          ]
        }
      ],
      "source": [
        "# Model Performance\n",
        "\n",
        "from sklearn.metrics import f1_score\n",
        "\n",
        "Y_pred = nb.predict(X_test_tfidf)\n",
        "nb_f1_score = f1_score(Y_test, Y_pred)\n",
        "\n",
        "print('F1 Score using Naive Bayes:', nb_f1_score)"
      ]
    },
    {
      "attachments": {},
      "cell_type": "markdown",
      "metadata": {
        "id": "TTi0QO25wYKR"
      },
      "source": [
        "## Training with Logistic Regression"
      ]
    },
    {
      "cell_type": "code",
      "execution_count": null,
      "metadata": {
        "colab": {
          "base_uri": "https://localhost:8080/",
          "height": 214
        },
        "id": "PGXT5ypjtrLd",
        "outputId": "f0d390c7-c554-440a-fa62-eda678af8dd5"
      },
      "outputs": [
        {
          "name": "stderr",
          "output_type": "stream",
          "text": [
            "/usr/local/lib/python3.10/dist-packages/sklearn/linear_model/_logistic.py:458: ConvergenceWarning: lbfgs failed to converge (status=1):\n",
            "STOP: TOTAL NO. of ITERATIONS REACHED LIMIT.\n",
            "\n",
            "Increase the number of iterations (max_iter) or scale the data as shown in:\n",
            "    https://scikit-learn.org/stable/modules/preprocessing.html\n",
            "Please also refer to the documentation for alternative solver options:\n",
            "    https://scikit-learn.org/stable/modules/linear_model.html#logistic-regression\n",
            "  n_iter_i = _check_optimize_result(\n"
          ]
        },
        {
          "data": {
            "text/html": [
              "<style>#sk-container-id-7 {color: black;background-color: white;}#sk-container-id-7 pre{padding: 0;}#sk-container-id-7 div.sk-toggleable {background-color: white;}#sk-container-id-7 label.sk-toggleable__label {cursor: pointer;display: block;width: 100%;margin-bottom: 0;padding: 0.3em;box-sizing: border-box;text-align: center;}#sk-container-id-7 label.sk-toggleable__label-arrow:before {content: \"▸\";float: left;margin-right: 0.25em;color: #696969;}#sk-container-id-7 label.sk-toggleable__label-arrow:hover:before {color: black;}#sk-container-id-7 div.sk-estimator:hover label.sk-toggleable__label-arrow:before {color: black;}#sk-container-id-7 div.sk-toggleable__content {max-height: 0;max-width: 0;overflow: hidden;text-align: left;background-color: #f0f8ff;}#sk-container-id-7 div.sk-toggleable__content pre {margin: 0.2em;color: black;border-radius: 0.25em;background-color: #f0f8ff;}#sk-container-id-7 input.sk-toggleable__control:checked~div.sk-toggleable__content {max-height: 200px;max-width: 100%;overflow: auto;}#sk-container-id-7 input.sk-toggleable__control:checked~label.sk-toggleable__label-arrow:before {content: \"▾\";}#sk-container-id-7 div.sk-estimator input.sk-toggleable__control:checked~label.sk-toggleable__label {background-color: #d4ebff;}#sk-container-id-7 div.sk-label input.sk-toggleable__control:checked~label.sk-toggleable__label {background-color: #d4ebff;}#sk-container-id-7 input.sk-hidden--visually {border: 0;clip: rect(1px 1px 1px 1px);clip: rect(1px, 1px, 1px, 1px);height: 1px;margin: -1px;overflow: hidden;padding: 0;position: absolute;width: 1px;}#sk-container-id-7 div.sk-estimator {font-family: monospace;background-color: #f0f8ff;border: 1px dotted black;border-radius: 0.25em;box-sizing: border-box;margin-bottom: 0.5em;}#sk-container-id-7 div.sk-estimator:hover {background-color: #d4ebff;}#sk-container-id-7 div.sk-parallel-item::after {content: \"\";width: 100%;border-bottom: 1px solid gray;flex-grow: 1;}#sk-container-id-7 div.sk-label:hover label.sk-toggleable__label {background-color: #d4ebff;}#sk-container-id-7 div.sk-serial::before {content: \"\";position: absolute;border-left: 1px solid gray;box-sizing: border-box;top: 0;bottom: 0;left: 50%;z-index: 0;}#sk-container-id-7 div.sk-serial {display: flex;flex-direction: column;align-items: center;background-color: white;padding-right: 0.2em;padding-left: 0.2em;position: relative;}#sk-container-id-7 div.sk-item {position: relative;z-index: 1;}#sk-container-id-7 div.sk-parallel {display: flex;align-items: stretch;justify-content: center;background-color: white;position: relative;}#sk-container-id-7 div.sk-item::before, #sk-container-id-7 div.sk-parallel-item::before {content: \"\";position: absolute;border-left: 1px solid gray;box-sizing: border-box;top: 0;bottom: 0;left: 50%;z-index: -1;}#sk-container-id-7 div.sk-parallel-item {display: flex;flex-direction: column;z-index: 1;position: relative;background-color: white;}#sk-container-id-7 div.sk-parallel-item:first-child::after {align-self: flex-end;width: 50%;}#sk-container-id-7 div.sk-parallel-item:last-child::after {align-self: flex-start;width: 50%;}#sk-container-id-7 div.sk-parallel-item:only-child::after {width: 0;}#sk-container-id-7 div.sk-dashed-wrapped {border: 1px dashed gray;margin: 0 0.4em 0.5em 0.4em;box-sizing: border-box;padding-bottom: 0.4em;background-color: white;}#sk-container-id-7 div.sk-label label {font-family: monospace;font-weight: bold;display: inline-block;line-height: 1.2em;}#sk-container-id-7 div.sk-label-container {text-align: center;}#sk-container-id-7 div.sk-container {/* jupyter's `normalize.less` sets `[hidden] { display: none; }` but bootstrap.min.css set `[hidden] { display: none !important; }` so we also need the `!important` here to be able to override the default hidden behavior on the sphinx rendered scikit-learn.org. See: https://github.com/scikit-learn/scikit-learn/issues/21755 */display: inline-block !important;position: relative;}#sk-container-id-7 div.sk-text-repr-fallback {display: none;}</style><div id=\"sk-container-id-7\" class=\"sk-top-container\"><div class=\"sk-text-repr-fallback\"><pre>LogisticRegression()</pre><b>In a Jupyter environment, please rerun this cell to show the HTML representation or trust the notebook. <br />On GitHub, the HTML representation is unable to render, please try loading this page with nbviewer.org.</b></div><div class=\"sk-container\" hidden><div class=\"sk-item\"><div class=\"sk-estimator sk-toggleable\"><input class=\"sk-toggleable__control sk-hidden--visually\" id=\"sk-estimator-id-7\" type=\"checkbox\" checked><label for=\"sk-estimator-id-7\" class=\"sk-toggleable__label sk-toggleable__label-arrow\">LogisticRegression</label><div class=\"sk-toggleable__content\"><pre>LogisticRegression()</pre></div></div></div></div></div>"
            ],
            "text/plain": [
              "LogisticRegression()"
            ]
          },
          "execution_count": 118,
          "metadata": {},
          "output_type": "execute_result"
        }
      ],
      "source": [
        "# Model Training\n",
        "\n",
        "from sklearn.linear_model import LogisticRegression\n",
        "\n",
        "lr = LogisticRegression()\n",
        "lr.fit(X_train_tfidf, Y_train)"
      ]
    },
    {
      "cell_type": "code",
      "execution_count": null,
      "metadata": {
        "colab": {
          "base_uri": "https://localhost:8080/"
        },
        "id": "Yc6hcDgowlOB",
        "outputId": "0ac3fd1d-c2de-4b14-f407-c598bccc0930"
      },
      "outputs": [
        {
          "name": "stdout",
          "output_type": "stream",
          "text": [
            "F1 Score using Logistic Regression: 0.9041176470588235\n"
          ]
        }
      ],
      "source": [
        "# Model Performance\n",
        "\n",
        "from sklearn.metrics import f1_score\n",
        "\n",
        "Y_pred = lr.predict(X_test_tfidf)\n",
        "lr_f1_score = f1_score(Y_test, Y_pred)\n",
        "\n",
        "print('F1 Score using Logistic Regression:', lr_f1_score)"
      ]
    },
    {
      "attachments": {},
      "cell_type": "markdown",
      "metadata": {
        "id": "jLHizrnZwwfk"
      },
      "source": [
        "### Comparision between Naive Bayes and Logistic Regression"
      ]
    },
    {
      "cell_type": "code",
      "execution_count": null,
      "metadata": {
        "colab": {
          "base_uri": "https://localhost:8080/",
          "height": 452
        },
        "id": "p-1kO_4Hwv9L",
        "outputId": "9c37b859-7d61-43ef-f265-c5ce14732693"
      },
      "outputs": [
        {
          "data": {
            "image/png": "[encoded data removed]",
            "text/plain": [
              "<Figure size 640x480 with 1 Axes>"
            ]
          },
          "metadata": {},
          "output_type": "display_data"
        }
      ],
      "source": [
        "import matplotlib.pyplot as plt\n",
        "\n",
        "models = ['Naive Bayes', 'Logistic Regression']\n",
        "f1_scores = [nb_f1_score, lr_f1_score]\n",
        "colors = ['indianred', 'cornflowerblue']\n",
        "\n",
        "# Create bar chart\n",
        "bars = plt.bar(models, f1_scores, color=colors)\n",
        "plt.ylim([0, 1])\n",
        "plt.ylabel('F1 Score')\n",
        "plt.title('F1 Score Comparison')\n",
        "\n",
        "# Add text labels above bars\n",
        "for i, bar in enumerate(bars):\n",
        "    plt.text(bar.get_x() + bar.get_width() / 2, bar.get_height() + 0.02, round(f1_scores[i], 2), ha='center', va='bottom')\n",
        "\n",
        "plt.show()"
      ]
    },
    {
      "attachments": {},
      "cell_type": "markdown",
      "metadata": {
        "id": "Wa2FZW8izIIo"
      },
      "source": [
        "Logistic Regression is performing better than Naive Bayes because:\n",
        "\n",
        "\n",
        "*   Logistic Regression is more complex and can capture more intricate relationships between the input features and the target variable\n",
        "*   Naive Bayes considers all input features to be independant of each other which might not be true\n",
        "\n",
        "*   Logistic Regression assigns weights to input features through which importance can be determined. Naive Bayes treats all features equally\n",
        "\n",
        "\n",
        "\n",
        "\n"
      ]
    },
    {
      "attachments": {},
      "cell_type": "markdown",
      "metadata": {
        "id": "FsF3k9QbQc5q"
      },
      "source": [
        "## Preparing embedding layer"
      ]
    },
    {
      "cell_type": "code",
      "execution_count": null,
      "metadata": {
        "id": "Imd_eFM5JKvP"
      },
      "outputs": [],
      "source": [
        "word_tokenizer = Tokenizer()\n",
        "word_tokenizer.fit_on_texts(X_train)\n",
        "\n",
        "X_train_glove = word_tokenizer.texts_to_sequences(X_train)\n",
        "X_test_glove = word_tokenizer.texts_to_sequences(X_test)"
      ]
    },
    {
      "cell_type": "code",
      "execution_count": null,
      "metadata": {
        "colab": {
          "base_uri": "https://localhost:8080/"
        },
        "id": "wsiw4dDtJ-uA",
        "outputId": "e1d93c70-2886-464a-a889-79c60dfd0c79"
      },
      "outputs": [
        {
          "data": {
            "text/plain": [
              "92547"
            ]
          },
          "execution_count": 122,
          "metadata": {},
          "output_type": "execute_result"
        }
      ],
      "source": [
        "# Adding 1 to store dimensions for words for which no pretrained word embeddings exist\n",
        "\n",
        "vocab_length = len(word_tokenizer.word_index) + 1\n",
        "vocab_length  #number of unique words"
      ]
    },
    {
      "cell_type": "code",
      "execution_count": null,
      "metadata": {
        "id": "43-obIGOKERb"
      },
      "outputs": [],
      "source": [
        "# Padding all comment sentences to fixed length 100\n",
        "\n",
        "maxlen = 100\n",
        "\n",
        "X_train_glove = pad_sequences(X_train_glove, padding='post', maxlen=maxlen)\n",
        "X_test_glove = pad_sequences(X_test_glove, padding='post', maxlen=maxlen)"
      ]
    },
    {
      "cell_type": "code",
      "execution_count": null,
      "metadata": {
        "id": "O8eiHAbvKHcD"
      },
      "outputs": [],
      "source": [
        "# Load GloVe word embeddings and create an Embeddings Dictionary\n",
        "\n",
        "from numpy import asarray\n",
        "from numpy import zeros\n",
        "\n",
        "embeddings_dictionary = dict()\n",
        "glove_file = open('glove.6B.100d.txt', encoding=\"utf8\")\n",
        "\n",
        "for line in glove_file:\n",
        "    records = line.split()\n",
        "    word = records[0]\n",
        "    vector_dimensions = asarray(records[1:], dtype='float32')\n",
        "    embeddings_dictionary [word] = vector_dimensions\n",
        "glove_file.close()"
      ]
    },
    {
      "cell_type": "code",
      "execution_count": null,
      "metadata": {
        "id": "T44SMhD6KI7X"
      },
      "outputs": [],
      "source": [
        "# Create Embedding Matrix having 100 columns \n",
        "# Containing 100-dimensional GloVe word embeddings for all unique words in our corpus.\n",
        "\n",
        "embedding_matrix = zeros((vocab_length, 100))\n",
        "for word, index in word_tokenizer.word_index.items():\n",
        "    embedding_vector = embeddings_dictionary.get(word)\n",
        "    if embedding_vector is not None:\n",
        "        embedding_matrix[index] = embedding_vector"
      ]
    },
    {
      "attachments": {},
      "cell_type": "markdown",
      "metadata": {
        "id": "HMulFBC4SfAY"
      },
      "source": [
        "##Training with LSTM"
      ]
    },
    {
      "cell_type": "code",
      "execution_count": null,
      "metadata": {
        "id": "kbVF6c4ASgUs"
      },
      "outputs": [],
      "source": [
        "# Defining Model Architecture\n",
        "\n",
        "from tensorflow.keras.models import Sequential\n",
        "from tensorflow.keras.layers import Embedding, LSTM, Dense\n",
        "\n",
        "model = Sequential()\n",
        "embedding_layer = Embedding(vocab_length, 100, weights=[embedding_matrix], input_length=maxlen , trainable=False)\n",
        "\n",
        "model.add(embedding_layer)\n",
        "model.add(LSTM(64))\n",
        "model.add(Dense(1, activation='sigmoid'))"
      ]
    },
    {
      "cell_type": "code",
      "execution_count": null,
      "metadata": {
        "colab": {
          "base_uri": "https://localhost:8080/"
        },
        "id": "Zk00Ss9HS68g",
        "outputId": "622181ee-7004-4fa7-9fbd-41a3b0a7d77a"
      },
      "outputs": [
        {
          "name": "stdout",
          "output_type": "stream",
          "text": [
            "Model: \"sequential_2\"\n",
            "_________________________________________________________________\n",
            " Layer (type)                Output Shape              Param #   \n",
            "=================================================================\n",
            " embedding_1 (Embedding)     (None, 100, 100)          9254700   \n",
            "                                                                 \n",
            " lstm_1 (LSTM)               (None, 64)                42240     \n",
            "                                                                 \n",
            " dense_1 (Dense)             (None, 1)                 65        \n",
            "                                                                 \n",
            "=================================================================\n",
            "Total params: 9,297,005\n",
            "Trainable params: 42,305\n",
            "Non-trainable params: 9,254,700\n",
            "_________________________________________________________________\n",
            "None\n"
          ]
        }
      ],
      "source": [
        "# Model Compiling\n",
        "\n",
        "model.compile(optimizer='adam', loss='binary_crossentropy', metrics=['acc'])\n",
        "print(model.summary())"
      ]
    },
    {
      "cell_type": "code",
      "execution_count": null,
      "metadata": {
        "colab": {
          "base_uri": "https://localhost:8080/"
        },
        "id": "QMhhaZUaS9jF",
        "outputId": "49074a1e-93e6-4698-9ee8-3b40aa51a12c"
      },
      "outputs": [
        {
          "name": "stdout",
          "output_type": "stream",
          "text": [
            "Epoch 1/50\n",
            "563/563 [==============================] - 70s 121ms/step - loss: 0.5353 - acc: 0.7304 - val_loss: 0.4426 - val_acc: 0.7955\n",
            "Epoch 2/50\n",
            "563/563 [==============================] - 62s 109ms/step - loss: 0.4245 - acc: 0.8040 - val_loss: 0.4606 - val_acc: 0.7850\n",
            "Epoch 3/50\n",
            "563/563 [==============================] - 64s 114ms/step - loss: 0.3837 - acc: 0.8289 - val_loss: 0.3749 - val_acc: 0.8298\n",
            "Epoch 4/50\n",
            "563/563 [==============================] - 62s 110ms/step - loss: 0.3532 - acc: 0.8443 - val_loss: 0.3527 - val_acc: 0.8405\n",
            "Epoch 5/50\n",
            "563/563 [==============================] - 62s 111ms/step - loss: 0.3310 - acc: 0.8542 - val_loss: 0.3482 - val_acc: 0.8415\n",
            "Epoch 6/50\n",
            "563/563 [==============================] - 64s 114ms/step - loss: 0.3133 - acc: 0.8641 - val_loss: 0.3336 - val_acc: 0.8497\n",
            "Epoch 7/50\n",
            "563/563 [==============================] - 62s 111ms/step - loss: 0.3021 - acc: 0.8699 - val_loss: 0.3366 - val_acc: 0.8540\n",
            "Epoch 8/50\n",
            "563/563 [==============================] - 63s 113ms/step - loss: 0.2824 - acc: 0.8796 - val_loss: 0.3681 - val_acc: 0.8338\n",
            "Epoch 9/50\n",
            "563/563 [==============================] - 68s 121ms/step - loss: 0.2680 - acc: 0.8879 - val_loss: 0.3295 - val_acc: 0.8510\n",
            "Epoch 10/50\n",
            "563/563 [==============================] - 62s 110ms/step - loss: 0.2533 - acc: 0.8953 - val_loss: 0.3254 - val_acc: 0.8530\n",
            "Epoch 11/50\n",
            "563/563 [==============================] - 61s 109ms/step - loss: 0.2365 - acc: 0.9031 - val_loss: 0.3334 - val_acc: 0.8482\n",
            "Epoch 12/50\n",
            "563/563 [==============================] - 63s 113ms/step - loss: 0.2230 - acc: 0.9091 - val_loss: 0.3853 - val_acc: 0.8515\n",
            "Epoch 13/50\n",
            "563/563 [==============================] - 62s 110ms/step - loss: 0.2077 - acc: 0.9169 - val_loss: 0.3490 - val_acc: 0.8522\n",
            "Epoch 14/50\n",
            "563/563 [==============================] - 61s 109ms/step - loss: 0.1914 - acc: 0.9240 - val_loss: 0.3734 - val_acc: 0.8432\n",
            "Epoch 15/50\n",
            "563/563 [==============================] - 62s 111ms/step - loss: 0.1760 - acc: 0.9311 - val_loss: 0.3842 - val_acc: 0.8500\n",
            "Epoch 16/50\n",
            "563/563 [==============================] - 63s 111ms/step - loss: 0.1613 - acc: 0.9371 - val_loss: 0.3982 - val_acc: 0.8478\n",
            "Epoch 17/50\n",
            "563/563 [==============================] - 62s 110ms/step - loss: 0.1457 - acc: 0.9449 - val_loss: 0.4300 - val_acc: 0.8497\n",
            "Epoch 18/50\n",
            "563/563 [==============================] - 62s 110ms/step - loss: 0.1324 - acc: 0.9505 - val_loss: 0.4378 - val_acc: 0.8510\n",
            "Epoch 19/50\n",
            "563/563 [==============================] - 65s 116ms/step - loss: 0.1271 - acc: 0.9532 - val_loss: 0.4324 - val_acc: 0.8472\n",
            "Epoch 20/50\n",
            "563/563 [==============================] - 62s 109ms/step - loss: 0.1103 - acc: 0.9606 - val_loss: 0.4596 - val_acc: 0.8490\n",
            "Epoch 21/50\n",
            "563/563 [==============================] - 62s 109ms/step - loss: 0.0921 - acc: 0.9680 - val_loss: 0.5061 - val_acc: 0.8495\n",
            "Epoch 22/50\n",
            "563/563 [==============================] - 65s 116ms/step - loss: 0.0891 - acc: 0.9684 - val_loss: 0.5349 - val_acc: 0.8405\n",
            "Epoch 23/50\n",
            "563/563 [==============================] - 62s 110ms/step - loss: 0.0773 - acc: 0.9737 - val_loss: 0.5845 - val_acc: 0.8447\n",
            "Epoch 24/50\n",
            "563/563 [==============================] - 62s 110ms/step - loss: 0.0778 - acc: 0.9735 - val_loss: 0.5504 - val_acc: 0.8390\n",
            "Epoch 25/50\n",
            "563/563 [==============================] - 65s 116ms/step - loss: 0.0600 - acc: 0.9809 - val_loss: 0.6213 - val_acc: 0.8347\n",
            "Epoch 26/50\n",
            "563/563 [==============================] - 62s 110ms/step - loss: 0.0642 - acc: 0.9787 - val_loss: 0.6214 - val_acc: 0.8420\n",
            "Epoch 27/50\n",
            "563/563 [==============================] - 62s 109ms/step - loss: 0.0725 - acc: 0.9759 - val_loss: 0.6019 - val_acc: 0.8393\n",
            "Epoch 28/50\n",
            "563/563 [==============================] - 63s 112ms/step - loss: 0.0508 - acc: 0.9842 - val_loss: 0.6551 - val_acc: 0.8367\n",
            "Epoch 29/50\n",
            "563/563 [==============================] - 61s 109ms/step - loss: 0.0408 - acc: 0.9883 - val_loss: 0.6886 - val_acc: 0.8397\n",
            "Epoch 30/50\n",
            "563/563 [==============================] - 61s 109ms/step - loss: 0.0432 - acc: 0.9871 - val_loss: 0.6718 - val_acc: 0.8395\n",
            "Epoch 31/50\n",
            "563/563 [==============================] - 62s 109ms/step - loss: 0.0449 - acc: 0.9860 - val_loss: 0.7499 - val_acc: 0.8378\n",
            "Epoch 32/50\n",
            "563/563 [==============================] - 64s 113ms/step - loss: 0.0281 - acc: 0.9931 - val_loss: 0.7705 - val_acc: 0.8365\n",
            "Epoch 33/50\n",
            "563/563 [==============================] - 62s 110ms/step - loss: 0.0344 - acc: 0.9900 - val_loss: 0.7758 - val_acc: 0.8440\n",
            "Epoch 34/50\n",
            "563/563 [==============================] - 62s 110ms/step - loss: 0.0341 - acc: 0.9900 - val_loss: 0.8045 - val_acc: 0.8403\n",
            "Epoch 35/50\n",
            "563/563 [==============================] - 64s 113ms/step - loss: 0.0503 - acc: 0.9833 - val_loss: 0.7394 - val_acc: 0.8403\n",
            "Epoch 36/50\n",
            "563/563 [==============================] - 62s 110ms/step - loss: 0.0400 - acc: 0.9879 - val_loss: 0.7762 - val_acc: 0.8390\n",
            "Epoch 37/50\n",
            "563/563 [==============================] - 61s 109ms/step - loss: 0.0276 - acc: 0.9924 - val_loss: 0.8092 - val_acc: 0.8420\n",
            "Epoch 38/50\n",
            "563/563 [==============================] - 63s 112ms/step - loss: 0.0258 - acc: 0.9928 - val_loss: 0.8493 - val_acc: 0.8353\n",
            "Epoch 39/50\n",
            "563/563 [==============================] - 63s 111ms/step - loss: 0.0305 - acc: 0.9910 - val_loss: 0.7867 - val_acc: 0.8385\n",
            "Epoch 40/50\n",
            "563/563 [==============================] - 63s 111ms/step - loss: 0.0275 - acc: 0.9917 - val_loss: 0.8726 - val_acc: 0.8388\n",
            "Epoch 41/50\n",
            "563/563 [==============================] - 63s 112ms/step - loss: 0.0227 - acc: 0.9938 - val_loss: 0.9135 - val_acc: 0.8370\n",
            "Epoch 42/50\n",
            "563/563 [==============================] - 63s 111ms/step - loss: 0.0178 - acc: 0.9958 - val_loss: 0.9593 - val_acc: 0.8390\n",
            "Epoch 43/50\n",
            "563/563 [==============================] - 61s 109ms/step - loss: 0.0315 - acc: 0.9903 - val_loss: 0.7990 - val_acc: 0.8347\n",
            "Epoch 44/50\n",
            "563/563 [==============================] - 62s 110ms/step - loss: 0.0240 - acc: 0.9936 - val_loss: 0.9276 - val_acc: 0.8453\n",
            "Epoch 45/50\n",
            "563/563 [==============================] - 63s 113ms/step - loss: 0.0191 - acc: 0.9954 - val_loss: 0.9545 - val_acc: 0.8425\n",
            "Epoch 46/50\n",
            "563/563 [==============================] - 61s 109ms/step - loss: 0.0248 - acc: 0.9931 - val_loss: 0.8751 - val_acc: 0.8360\n",
            "Epoch 47/50\n",
            "563/563 [==============================] - 61s 108ms/step - loss: 0.0266 - acc: 0.9918 - val_loss: 0.9827 - val_acc: 0.8320\n",
            "Epoch 48/50\n",
            "563/563 [==============================] - 62s 109ms/step - loss: 0.0218 - acc: 0.9943 - val_loss: 0.9869 - val_acc: 0.8355\n",
            "Epoch 49/50\n",
            "563/563 [==============================] - 63s 112ms/step - loss: 0.1284 - acc: 0.9584 - val_loss: 0.7597 - val_acc: 0.8325\n",
            "Epoch 50/50\n",
            "563/563 [==============================] - 62s 109ms/step - loss: 0.0423 - acc: 0.9863 - val_loss: 0.8253 - val_acc: 0.8363\n"
          ]
        }
      ],
      "source": [
        "# Model Training\n",
        "\n",
        "model_history = model.fit(X_train_glove, Y_train, batch_size=64, epochs=50, verbose=1, validation_split=0.1)"
      ]
    },
    {
      "cell_type": "code",
      "execution_count": null,
      "metadata": {
        "colab": {
          "base_uri": "https://localhost:8080/"
        },
        "id": "w7il9EjzlAaR",
        "outputId": "a9f21166-b7f7-494d-cf90-3b9c9ca82553"
      },
      "outputs": [
        {
          "name": "stdout",
          "output_type": "stream",
          "text": [
            "313/313 [==============================] - 6s 19ms/step - loss: 0.8087 - acc: 0.8398\n"
          ]
        }
      ],
      "source": [
        "# Predictions on the Test Set\n",
        "\n",
        "score = model.evaluate(X_test_glove, Y_test, verbose=1)"
      ]
    },
    {
      "cell_type": "code",
      "execution_count": null,
      "metadata": {
        "colab": {
          "base_uri": "https://localhost:8080/"
        },
        "id": "6j71n54zS9mc",
        "outputId": "3dfc91ff-1461-4fa8-c6f4-5f8758c7c75c"
      },
      "outputs": [
        {
          "name": "stdout",
          "output_type": "stream",
          "text": [
            "313/313 [==============================] - 8s 23ms/step\n",
            "F1 Score using LSTM: 0.8419494869771114\n"
          ]
        }
      ],
      "source": [
        "# Model Performance\n",
        "\n",
        "from sklearn.metrics import confusion_matrix, classification_report\n",
        "import sys\n",
        "import numpy as np\n",
        "\n",
        "Y_pred = model.predict(X_test_glove)\n",
        "Y_pred = Y_pred.flatten()\n",
        "Y_pred = np.where(Y_pred > 0.5, 1, 0)\n",
        "\n",
        "lstm_f1_score = f1_score(Y_test, Y_pred)\n",
        "print(\"F1 Score using LSTM:\", lstm_f1_score)"
      ]
    },
    {
      "attachments": {},
      "cell_type": "markdown",
      "metadata": {
        "id": "ntPUhTtOQRfb"
      },
      "source": [
        "## Comparision between Naive Bayes, Logistic Regression and LSTM"
      ]
    },
    {
      "cell_type": "code",
      "execution_count": null,
      "metadata": {
        "colab": {
          "base_uri": "https://localhost:8080/",
          "height": 452
        },
        "id": "zu-qx_4wQZmO",
        "outputId": "7d288764-24d9-42b5-d1fa-74c7ce7ee944"
      },
      "outputs": [
        {
          "data": {
            "image/png": "[encoded data removed]",
            "text/plain": [
              "<Figure size 640x480 with 1 Axes>"
            ]
          },
          "metadata": {},
          "output_type": "display_data"
        }
      ],
      "source": [
        "import matplotlib.pyplot as plt\n",
        "\n",
        "models = ['Naive Bayes', 'Logistic Regression', 'LSTM']\n",
        "f1_scores = [nb_f1_score, lr_f1_score, lstm_f1_score]\n",
        "colors = ['indianred', 'cornflowerblue', 'palegreen']\n",
        "\n",
        "# Create bar chart\n",
        "bars = plt.bar(models, f1_scores, color=colors)\n",
        "plt.ylim([0, 1])\n",
        "plt.ylabel('F1 Score')\n",
        "plt.title('F1 Score Comparison')\n",
        "\n",
        "# Add text labels above bars\n",
        "for i, bar in enumerate(bars):\n",
        "    plt.text(bar.get_x() + bar.get_width() / 2, bar.get_height() + 0.02, round(f1_scores[i], 2), ha='center', va='bottom')\n",
        "\n",
        "plt.show()"
      ]
    }
  ],
  "metadata": {
    "colab": {
      "collapsed_sections": [
        "Sdq3bQuOOZxt"
      ],
      "provenance": []
    },
    "kernelspec": {
      "display_name": "Python 3 (ipykernel)",
      "language": "python",
      "name": "python3"
    },
    "language_info": {
      "codemirror_mode": {
        "name": "ipython",
        "version": 3
      },
      "file_extension": ".py",
      "mimetype": "text/x-python",
      "name": "python",
      "nbconvert_exporter": "python",
      "pygments_lexer": "ipython3",
      "version": "3.9.12"
    }
  },
  "nbformat": 4,
  "nbformat_minor": 0
}
